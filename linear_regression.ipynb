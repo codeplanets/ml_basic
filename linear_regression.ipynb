{
  "nbformat": 4,
  "nbformat_minor": 0,
  "metadata": {
    "colab": {
      "provenance": [],
      "collapsed_sections": [],
      "authorship_tag": "ABX9TyPRcZG4i8OyarrTXe/m/i+x",
      "include_colab_link": true
    },
    "kernelspec": {
      "name": "python3",
      "display_name": "Python 3"
    },
    "language_info": {
      "name": "python"
    }
  },
  "cells": [
    {
      "cell_type": "markdown",
      "metadata": {
        "id": "view-in-github",
        "colab_type": "text"
      },
      "source": [
        "<a href=\"https://colab.research.google.com/github/codeplanets/ml_basic/blob/main/linear_regression.ipynb\" target=\"_parent\"><img src=\"https://colab.research.google.com/assets/colab-badge.svg\" alt=\"Open In Colab\"/></a>"
      ]
    },
    {
      "cell_type": "markdown",
      "source": [
        "Method of least squares (최소 제곱법)"
      ],
      "metadata": {
        "id": "-2s8-313XTDA"
      }
    },
    {
      "cell_type": "code",
      "execution_count": 3,
      "metadata": {
        "colab": {
          "base_uri": "https://localhost:8080/",
          "height": 377
        },
        "id": "EBTla62bW3YQ",
        "outputId": "e2a2ed34-8de5-42d5-a7ef-bb84b97dfeb4"
      },
      "outputs": [
        {
          "output_type": "stream",
          "name": "stdout",
          "text": [
            "mean x: 5.0\n",
            "mean y: 90.5\n",
            "분모: 20.0\n",
            "분자: 46.0\n",
            "기울기 a = 2.3\n",
            "y 절편 b = 79.0\n"
          ]
        },
        {
          "output_type": "display_data",
          "data": {
            "text/plain": [
              "<Figure size 432x288 with 1 Axes>"
            ],
            "image/png": "[encoded data removed]"
          },
          "metadata": {
            "needs_background": "light"
          }
        }
      ],
      "source": [
        "import numpy as np\n",
        "from matplotlib import pyplot as plt\n",
        "\n",
        "# 데이터\n",
        "x = [2, 4, 6, 8]\n",
        "y = [81, 93, 91, 97]\n",
        "\n",
        "# x, y 의 평균값\n",
        "mx = np.mean(x)\n",
        "my = np.mean(y)\n",
        "print(\"mean x:\", mx)\n",
        "print(\"mean y:\", my)\n",
        "\n",
        "# 기울기 공식의 분모\n",
        "divisor = sum([(mx - i)**2 for i in x])\n",
        "\n",
        "# 기울기 공식의 분자\n",
        "def top(x, mx, y, my):\n",
        "  d = 0\n",
        "  for i in range(len(x)):\n",
        "    d += (x[i] - mx) * (y[i] - my)\n",
        "  return d\n",
        "\n",
        "dividend = top(x, mx, y, my)\n",
        "\n",
        "print(\"분모:\", divisor)\n",
        "print(\"분자:\", dividend)\n",
        "\n",
        "# 기울기와 y절편\n",
        "a = dividend / divisor\n",
        "b = my - (mx * a)\n",
        "\n",
        "# 출력값 최종 확인\n",
        "print(\"기울기 a =\", a)\n",
        "print(\"y 절편 b =\", b)\n",
        "\n",
        "plt.plot(x, y, marker='o', linestyle='dashed')\n",
        "plt.show()\n"
      ]
    },
    {
      "cell_type": "markdown",
      "source": [
        "Root Mean Square Error(RMSE, 평균 제곱근 오차)"
      ],
      "metadata": {
        "id": "Ey424ZGlOm53"
      }
    },
    {
      "cell_type": "code",
      "source": [
        "import numpy as np\n",
        "\n",
        "# 기울기 a와 y 절편 b\n",
        "ab = [2.3, 79]\n",
        "\n",
        "data = [[2, 81], [4, 93], [6, 91], [8, 97]]\n",
        "# data list의 첫번째 값만 x에 list로 저장\n",
        "x = [i[0] for i in data]\n",
        "# data list의 두번째 값만 y에 list로 저장\n",
        "y = [i[1] for i in data]\n",
        "\n",
        "# y = ax + b에 a와 b값을 대입하여 결과를 출력하는 함수\n",
        "def predict(x):\n",
        "  return ab[0]*x + ab[1]\n",
        "\n",
        "# RMSE 함수 구현\n",
        "def rmse(p, a):\n",
        "  return np.sqrt(((p - a) ** 2).mean())\n",
        "\n",
        "# RMSE 함수를 각 y값에 대입하여 최종 값을 구하는 함수\n",
        "def rmse_val(predict_result, y):\n",
        "  return rmse(np.array(predict_result), np.array(y))\n",
        "\n",
        "# 예측값이 들어갈 빈 리스트 선언\n",
        "predict_result = []\n",
        "\n",
        "# 모든 x 값을 한번씩 대입하여\n",
        "for i in range(len(x)):\n",
        "  # 그 결과 predict_result 리스트에 입력\n",
        "  predict_result.append(predict(x[i]))\n",
        "  print(\"공부한 시간=%.f, 실제 점수=%.f, 예측 점수=%.f\" % (x[i], y[i], predict(x[i])))\n",
        "\n",
        "# 최종 RMSE 출력\n",
        "print(\"rmse 최종값:\", rmse_val(predict_result, y))\n"
      ],
      "metadata": {
        "colab": {
          "base_uri": "https://localhost:8080/"
        },
        "id": "6vbbfSOfXHT_",
        "outputId": "9c74a6ba-1e86-47c9-a94d-fa24c967f9a0"
      },
      "execution_count": 5,
      "outputs": [
        {
          "output_type": "stream",
          "name": "stdout",
          "text": [
            "공부한 시간=2, 실제 점수=81, 예측 점수=84\n",
            "공부한 시간=4, 실제 점수=93, 예측 점수=88\n",
            "공부한 시간=6, 실제 점수=91, 예측 점수=93\n",
            "공부한 시간=8, 실제 점수=97, 예측 점수=97\n",
            "rmse 최종값: 2.880972058177584\n"
          ]
        }
      ]
    }
  ]
}