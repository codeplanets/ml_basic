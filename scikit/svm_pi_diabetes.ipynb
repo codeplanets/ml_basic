{
  "nbformat": 4,
  "nbformat_minor": 0,
  "metadata": {
    "colab": {
      "provenance": [],
      "collapsed_sections": [],
      "authorship_tag": "ABX9TyM5bWR/++WDiTYZmwGAT5KF",
      "include_colab_link": true
    },
    "kernelspec": {
      "name": "python3",
      "display_name": "Python 3"
    },
    "language_info": {
      "name": "python"
    }
  },
  "cells": [
    {
      "cell_type": "markdown",
      "metadata": {
        "id": "view-in-github",
        "colab_type": "text"
      },
      "source": [
        "<a href=\"https://colab.research.google.com/github/codeplanets/ml_basic/blob/main/scikit/svm_pi_diabetes.ipynb\" target=\"_parent\"><img src=\"https://colab.research.google.com/assets/colab-badge.svg\" alt=\"Open In Colab\"/></a>"
      ]
    },
    {
      "cell_type": "markdown",
      "source": [
        "## 서포트 벡터 머신을 이용해서 당뇨병을 예측하는 코드"
      ],
      "metadata": {
        "id": "v6p1zkBGyFMK"
      }
    },
    {
      "cell_type": "code",
      "execution_count": 1,
      "metadata": {
        "id": "0_4FOmmnx5Vz"
      },
      "outputs": [],
      "source": [
        "import pandas as pd\n",
        "from sklearn.model_selection import train_test_split\n",
        "from sklearn.svm import SVC\n",
        "from sklearn.preprocessing import StandardScaler\n",
        "\n",
        "pi_diabetes = pd.read_csv('pima-indians-diabetes.csv', header = None)\n",
        "\n",
        "x = pi_diabetes.iloc[:, :8]\n",
        "y = pi_diabetes.iloc[:, 8:].values.flatten() # 1D\n",
        "\n",
        "print('x shape : {}, x shape : {}'.format)"
      ]
    }
  ]
}